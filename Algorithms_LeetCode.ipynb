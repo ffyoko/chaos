{
 "cells": [
  {
   "cell_type": "code",
   "execution_count": 1,
   "metadata": {
    "ExecuteTime": {
     "end_time": "2020-06-09T12:19:36.759392Z",
     "start_time": "2020-06-09T12:19:36.756864Z"
    }
   },
   "outputs": [],
   "source": [
    "from typing import List"
   ]
  },
  {
   "cell_type": "markdown",
   "metadata": {},
   "source": [
    "# MaxSumSubArray"
   ]
  },
  {
   "cell_type": "code",
   "execution_count": null,
   "metadata": {},
   "outputs": [],
   "source": [
    "# 给定一个整数数组 n ，找到一个具有最大和的连续子数组（子数组最少包含一个元素），返回其最大和\n",
    "# 输入：[-2,1,-3,4,-1,2,1,-5,4]\n",
    "# 输出：6\n",
    "# 解释：连续子数组 [4,-1,2,1] 的和最大，为 6"
   ]
  },
  {
   "cell_type": "markdown",
   "metadata": {},
   "source": [
    "## dp"
   ]
  },
  {
   "cell_type": "code",
   "execution_count": 3,
   "metadata": {
    "ExecuteTime": {
     "end_time": "2020-05-14T09:49:19.074716Z",
     "start_time": "2020-05-14T09:49:19.069250Z"
    }
   },
   "outputs": [],
   "source": [
    "class Solution:\n",
    "    def MaxSumSubArray(self, n: List[int]) -> int:\n",
    "        size = len(n)\n",
    "        if size == 0:\n",
    "            raise ValueError\n",
    "        else:\n",
    "            x = n[0]\n",
    "            y = x\n",
    "            if size > 1:\n",
    "                for i in range(1, size):\n",
    "                    x = max(n[i], x+n[i])\n",
    "                    y = max(x, y)\n",
    "        return y"
   ]
  },
  {
   "cell_type": "code",
   "execution_count": 4,
   "metadata": {
    "ExecuteTime": {
     "end_time": "2020-05-14T09:49:19.677890Z",
     "start_time": "2020-05-14T09:49:19.665811Z"
    }
   },
   "outputs": [
    {
     "data": {
      "text/plain": [
       "6"
      ]
     },
     "execution_count": 4,
     "metadata": {},
     "output_type": "execute_result"
    }
   ],
   "source": [
    "n = [-2, 1, -3, 4, -1, 2, 1, -5, 4]\n",
    "s = Solution()\n",
    "s.MaxSumSubArray(n)"
   ]
  },
  {
   "cell_type": "code",
   "execution_count": null,
   "metadata": {},
   "outputs": [],
   "source": [
    "# 时间复杂度：O(N)\n",
    "# 空间复杂度：O(1)"
   ]
  },
  {
   "cell_type": "markdown",
   "metadata": {},
   "source": [
    "## dp with subarray export"
   ]
  },
  {
   "cell_type": "code",
   "execution_count": 163,
   "metadata": {
    "ExecuteTime": {
     "end_time": "2020-05-14T09:49:25.172252Z",
     "start_time": "2020-05-14T09:49:25.152819Z"
    }
   },
   "outputs": [],
   "source": [
    "class Solution:\n",
    "    def MaxSumSubArray(self, n: List[int]) -> int:\n",
    "        size = len(n)\n",
    "        if size == 0:\n",
    "            raise ValueError\n",
    "        else:\n",
    "            x = n[0]\n",
    "            y = x\n",
    "            p = [n[0]]\n",
    "            q = p.copy()\n",
    "            if size > 1:\n",
    "                for i in range(1, size):\n",
    "                    if x >= 0:\n",
    "                        x = x+n[i]\n",
    "                        p.append(n[i])\n",
    "                    else:\n",
    "                        x = n[i]\n",
    "                        p = [n[i]]\n",
    "                    if x >= y:\n",
    "                        y = x\n",
    "                        q = p.copy()\n",
    "        return y, q"
   ]
  },
  {
   "cell_type": "code",
   "execution_count": 164,
   "metadata": {
    "ExecuteTime": {
     "end_time": "2020-05-14T09:49:25.740210Z",
     "start_time": "2020-05-14T09:49:25.728094Z"
    }
   },
   "outputs": [
    {
     "data": {
      "text/plain": [
       "(6, [4, -1, 2, 1])"
      ]
     },
     "execution_count": 164,
     "metadata": {},
     "output_type": "execute_result"
    }
   ],
   "source": [
    "n = [-2, 1, -3, 4, -1, 2, 1, -5, 4]\n",
    "s = Solution()\n",
    "s.MaxSumSubArray(n)"
   ]
  },
  {
   "cell_type": "code",
   "execution_count": null,
   "metadata": {},
   "outputs": [],
   "source": []
  },
  {
   "cell_type": "markdown",
   "metadata": {},
   "source": [
    "## divide and conquer"
   ]
  },
  {
   "cell_type": "code",
   "execution_count": null,
   "metadata": {},
   "outputs": [],
   "source": [
    "# class Solution:\n",
    "#     def maxSubArray(self, nums: List[int]) -> int:\n",
    "#         n = len(nums)\n",
    "#         #递归终止条件\n",
    "#         if n == 1:\n",
    "#             return nums[0]\n",
    "#         else:\n",
    "#             #递归计算左半边最大子序和\n",
    "#             max_left = self.maxSubArray(nums[0:len(nums) // 2])\n",
    "#             #递归计算右半边最大子序和\n",
    "#             max_right = self.maxSubArray(nums[len(nums) // 2:len(nums)])\n",
    "        \n",
    "#         #计算中间的最大子序和，从右到左计算左边的最大子序和，从左到右计算右边的最大子序和，再相加\n",
    "#         max_l = nums[len(nums) // 2 - 1]\n",
    "#         tmp = 0\n",
    "#         for i in range(len(nums) // 2 - 1, -1, -1):\n",
    "#             tmp += nums[i]\n",
    "#             max_l = max(tmp, max_l)\n",
    "#         max_r = nums[len(nums) // 2]\n",
    "#         tmp = 0\n",
    "#         for i in range(len(nums) // 2, len(nums)):\n",
    "#             tmp += nums[i]\n",
    "#             max_r = max(tmp, max_r)\n",
    "#         #返回三个中的最大值\n",
    "#         return max(max_right,max_left,max_l+max_r)"
   ]
  },
  {
   "cell_type": "markdown",
   "metadata": {},
   "source": [
    "# two-dimensional dp"
   ]
  },
  {
   "cell_type": "markdown",
   "metadata": {},
   "source": [
    "## AppleCollection"
   ]
  },
  {
   "cell_type": "code",
   "execution_count": 131,
   "metadata": {
    "ExecuteTime": {
     "end_time": "2020-05-18T09:10:30.800487Z",
     "start_time": "2020-05-18T09:10:30.790208Z"
    }
   },
   "outputs": [],
   "source": [
    "class Solution:\n",
    "    def AppleCollection(self, a: List[List]) -> int:\n",
    "        m, n = len(a), len(a[0])\n",
    "        if n == 0:\n",
    "            raise ValueError\n",
    "        else:\n",
    "            dp = [[0 for _ in range(n)] for _ in range(m)]\n",
    "            for i in range(n):\n",
    "                dp[0][i] = sum(a[0][:i+1])\n",
    "            for j in range(1, m):\n",
    "                dp[j][0] = dp[j-1][0]+a[j][0]\n",
    "            for i in range(1, m):\n",
    "                for j in range(1, n):\n",
    "                    dp[i][j] = a[i][j]+max(dp[i-1][j], dp[i][j-1])\n",
    "        return dp[-1][-1]"
   ]
  },
  {
   "cell_type": "code",
   "execution_count": 132,
   "metadata": {
    "ExecuteTime": {
     "end_time": "2020-05-18T09:10:31.381395Z",
     "start_time": "2020-05-18T09:10:31.364464Z"
    }
   },
   "outputs": [
    {
     "data": {
      "text/plain": [
       "135"
      ]
     },
     "execution_count": 132,
     "metadata": {},
     "output_type": "execute_result"
    }
   ],
   "source": [
    "a = [[10, 9, 2], [5, 3, 7], [101, 18, 1]]\n",
    "s = Solution()\n",
    "s.AppleCollection(a)"
   ]
  },
  {
   "cell_type": "markdown",
   "metadata": {},
   "source": [
    "## AppleDistribution"
   ]
  },
  {
   "cell_type": "code",
   "execution_count": 217,
   "metadata": {
    "ExecuteTime": {
     "end_time": "2020-05-19T06:27:02.594630Z",
     "start_time": "2020-05-19T06:27:02.571368Z"
    }
   },
   "outputs": [
    {
     "data": {
      "text/plain": [
       "[3, 2, 1]"
      ]
     },
     "execution_count": 217,
     "metadata": {},
     "output_type": "execute_result"
    }
   ],
   "source": [
    "sorted([1,2,3], reverse=True)"
   ]
  },
  {
   "cell_type": "code",
   "execution_count": null,
   "metadata": {},
   "outputs": [],
   "source": []
  },
  {
   "cell_type": "markdown",
   "metadata": {},
   "source": [
    "## UniquePaths"
   ]
  },
  {
   "cell_type": "code",
   "execution_count": 150,
   "metadata": {
    "ExecuteTime": {
     "end_time": "2020-05-18T09:33:54.214258Z",
     "start_time": "2020-05-18T09:33:54.197675Z"
    }
   },
   "outputs": [],
   "source": [
    "class Solution:\n",
    "    def UniquePaths(self, m: int, n: int) -> int:\n",
    "        dp = [[1 for _ in range(n)] for _ in range(m)]\n",
    "        for i in range(1, m):\n",
    "            for j in range(1, n):\n",
    "                dp[i][j] = dp[i-1][j]+dp[i][j-1]\n",
    "        return dp[-1][-1]"
   ]
  },
  {
   "cell_type": "code",
   "execution_count": 6,
   "metadata": {
    "ExecuteTime": {
     "end_time": "2020-06-09T12:19:58.826068Z",
     "start_time": "2020-06-09T12:19:58.822637Z"
    }
   },
   "outputs": [],
   "source": [
    "class Solution:\n",
    "    def UniquePaths(self, m: int, n: int) -> int:\n",
    "        dp = [1]+[0]*(n-1)\n",
    "        for i in range(m):\n",
    "            for j in range(n):\n",
    "                if j >0:\n",
    "                    dp[j] += dp[j-1]\n",
    "        return dp[-1]"
   ]
  },
  {
   "cell_type": "code",
   "execution_count": 7,
   "metadata": {
    "ExecuteTime": {
     "end_time": "2020-06-09T12:19:59.063581Z",
     "start_time": "2020-06-09T12:19:59.059775Z"
    }
   },
   "outputs": [
    {
     "data": {
      "text/plain": [
       "28"
      ]
     },
     "execution_count": 7,
     "metadata": {},
     "output_type": "execute_result"
    }
   ],
   "source": [
    "m = 3\n",
    "n = 7\n",
    "s = Solution()\n",
    "s.UniquePaths(m, n)"
   ]
  },
  {
   "cell_type": "code",
   "execution_count": 157,
   "metadata": {
    "ExecuteTime": {
     "end_time": "2020-05-18T11:03:31.483798Z",
     "start_time": "2020-05-18T11:03:31.480294Z"
    }
   },
   "outputs": [],
   "source": [
    "class Solution:\n",
    "    def UniquePathsObstacles(self, a: List[List]) -> int:\n",
    "        m, n = len(a), len(a[0])\n",
    "        dp = [1] + [0]*(n-1)\n",
    "        for i in range(m):\n",
    "            for j in range(n):\n",
    "                if a[i][j] == 1:\n",
    "                    dp[j] = 0\n",
    "                elif j > 0:\n",
    "                    dp[j] += dp[j-1]\n",
    "        return dp[-1]"
   ]
  },
  {
   "cell_type": "code",
   "execution_count": 158,
   "metadata": {
    "ExecuteTime": {
     "end_time": "2020-05-18T11:03:32.078542Z",
     "start_time": "2020-05-18T11:03:32.058103Z"
    }
   },
   "outputs": [
    {
     "data": {
      "text/plain": [
       "2"
      ]
     },
     "execution_count": 158,
     "metadata": {},
     "output_type": "execute_result"
    }
   ],
   "source": [
    "a = [[0, 0, 0], [0, 1, 0], [0, 0, 0]]\n",
    "s = Solution()\n",
    "s.UniquePathsObstacles(a)"
   ]
  },
  {
   "cell_type": "code",
   "execution_count": null,
   "metadata": {},
   "outputs": [],
   "source": []
  },
  {
   "cell_type": "code",
   "execution_count": 190,
   "metadata": {},
   "outputs": [],
   "source": [
    "class Solution:\n",
    "    def minCostClimbingStairs(self, cost: List[int]) -> int:\n",
    "        dp = [0 for _ in range(len(cost)+1)]\n",
    "        for i in range(2, len(cost)+1):\n",
    "            dp[i] = min(dp[i-1]+cost[i-1], dp[i-2]+cost[i-2])\n",
    "        return dp[-1]"
   ]
  },
  {
   "cell_type": "code",
   "execution_count": 192,
   "metadata": {
    "ExecuteTime": {
     "end_time": "2020-05-18T16:27:43.992638Z",
     "start_time": "2020-05-18T16:27:43.986293Z"
    }
   },
   "outputs": [],
   "source": [
    "class Solution:\n",
    "    def minCostClimbingStairs(self, cost: List[int]) -> int:\n",
    "        c0, c1 = 0, 0\n",
    "        for i in range(2, len(cost)+1):\n",
    "            c = min(c1+cost[i-1], c0+cost[i-2])\n",
    "            c0, c1 = c1, c\n",
    "        return c"
   ]
  },
  {
   "cell_type": "code",
   "execution_count": 194,
   "metadata": {
    "ExecuteTime": {
     "end_time": "2020-05-18T16:28:14.152202Z",
     "start_time": "2020-05-18T16:28:14.139581Z"
    }
   },
   "outputs": [
    {
     "data": {
      "text/plain": [
       "15"
      ]
     },
     "execution_count": 194,
     "metadata": {},
     "output_type": "execute_result"
    }
   ],
   "source": [
    "n = [1, 100, 1, 1, 1, 100, 1, 1, 100, 1]\n",
    "n = [10, 15, 20]\n",
    "s = Solution()\n",
    "s.minCostClimbingStairs(n)"
   ]
  },
  {
   "cell_type": "code",
   "execution_count": null,
   "metadata": {},
   "outputs": [],
   "source": []
  },
  {
   "cell_type": "code",
   "execution_count": null,
   "metadata": {},
   "outputs": [],
   "source": [
    "# 给定一个非负整数 num。对于 0 ≤ i ≤ num 范围中的每个数字 i ，计算其二进制数中的 1 的数目并将它们作为数组返回"
   ]
  },
  {
   "cell_type": "code",
   "execution_count": 195,
   "metadata": {
    "ExecuteTime": {
     "end_time": "2020-05-18T16:33:34.181070Z",
     "start_time": "2020-05-18T16:33:34.172273Z"
    }
   },
   "outputs": [],
   "source": [
    "class Solution(object):\n",
    "    def countBits(self, num: int) -> List[int]:\n",
    "        res=[0]\n",
    "        k=0\n",
    "        for i in range(1,num+1):\n",
    "            if(i == 2**k):\n",
    "                res.append(1)\n",
    "                k+=1\n",
    "            else:\n",
    "                res.append(1+res[i-2**k])\n",
    "        return res"
   ]
  },
  {
   "cell_type": "code",
   "execution_count": 196,
   "metadata": {
    "ExecuteTime": {
     "end_time": "2020-05-18T16:33:35.026930Z",
     "start_time": "2020-05-18T16:33:35.017280Z"
    }
   },
   "outputs": [
    {
     "data": {
      "text/plain": [
       "[0, 1, 1, 2, 1, 2]"
      ]
     },
     "execution_count": 196,
     "metadata": {},
     "output_type": "execute_result"
    }
   ],
   "source": [
    "s = Solution()\n",
    "s.countBits(5)"
   ]
  },
  {
   "cell_type": "code",
   "execution_count": null,
   "metadata": {},
   "outputs": [],
   "source": []
  },
  {
   "cell_type": "code",
   "execution_count": null,
   "metadata": {},
   "outputs": [],
   "source": [
    "# 三角形最小路径和\n",
    "# 给定一个三角形，找出自顶向下的最小路径和。每一步只能移动到下一行中相邻的结点上。\n",
    "\n",
    "# 例如，给定三角形：\n",
    "\n",
    "# [\n",
    "#      [2],\n",
    "#     [3,4],\n",
    "#    [6,5,7],\n",
    "#   [4,1,8,3]\n",
    "# ]\n",
    "# 自顶向下的最小路径和为 11（即，2 + 3 + 5 + 1 = 11）"
   ]
  },
  {
   "cell_type": "code",
   "execution_count": null,
   "metadata": {},
   "outputs": [],
   "source": [
    "class Solution(object):\n",
    "    def minimumTotal(self, triangle):\n",
    "        \"\"\"\n",
    "        :type triangle: List[List[int]]\n",
    "        :rtype: int\n",
    "        \"\"\"\n",
    "        '''\n",
    "        dp问题：利用列表进行存储，每一行每个步骤结束后的最小值，那么在最后一行，其最小值为min（4+dp[0],4+dp[1],1+dp[0],1+dp[1]...）\n",
    "        所以状态转移方程为： 如果i==0 or i==len(triangle[row]) 那么其转移方程为dp[i]=dp[0]triangle[row][i]  dp[i]=dp[i-1]+triangle[row][i]\n",
    "                            dp[i]=min(dp[i-1],dp[i])+triangle[row][i]\n",
    "        初始值为   dp[0]=triangle[0][0]\n",
    "        '''\n",
    "        if len(triangle)==1:\n",
    "            return triangle[0][0]\n",
    "        dp=[[triangle[0][0]]]\n",
    "        for i in range(1,len(triangle)):\n",
    "            for j in range(len(triangle[i])):\n",
    "                dp.append([])\n",
    "#                 边界只有一个邻边\n",
    "                if j==0:\n",
    "                    dp[i].append(dp[i-1][j]+triangle[i][j])\n",
    "                elif j==len(triangle[i])-1:\n",
    "                    dp[i].append(dp[i-1][j-1]+triangle[i][j])\n",
    "                else:\n",
    "#                     当前取值，在上一层的邻边最小值相加\n",
    "                    dp[i].append(min(dp[i-1][j-1],dp[i-1][j])+triangle[i][j])\n",
    "        return min(dp[len(triangle)-1])"
   ]
  },
  {
   "cell_type": "code",
   "execution_count": null,
   "metadata": {},
   "outputs": [],
   "source": []
  },
  {
   "cell_type": "code",
   "execution_count": null,
   "metadata": {},
   "outputs": [],
   "source": []
  },
  {
   "cell_type": "code",
   "execution_count": null,
   "metadata": {},
   "outputs": [],
   "source": [
    "# 给定一个整数数组，其中第 i 个元素代表了第 i 天的股票价格 。​\n",
    "\n",
    "# 设计一个算法计算出最大利润。在满足以下约束条件下，你可以尽可能地完成更多的交易（多次买卖一支股票）:\n",
    "\n",
    "# 你不能同时参与多笔交易（你必须在再次购买前出售掉之前的股票）。\n",
    "# 卖出股票后，你无法在第二天买入股票 (即冷冻期为 1 天)。\n",
    "# 示例:\n",
    "\n",
    "# 输入: [1,2,3,0,2]\n",
    "# 输出: 3 \n",
    "# 解释: 对应的交易状态为: [买入, 卖出, 冷冻期, 买入, 卖出]"
   ]
  },
  {
   "cell_type": "code",
   "execution_count": null,
   "metadata": {},
   "outputs": [],
   "source": [
    "# dp[i][0] = max(dp[i - 1][0], dp[i - 1][1] + prices[i])\n",
    "#                  继续空仓观望       卖出手上的股票\n",
    "# dp[i][1] = max(dp[i - 1][1], dp[i - 1][0] - prices[i])   # dp[i - 1][0] 不能是从 dp[i - 2][1] + prices[i] 转移过来的\n",
    "#                  继续持有股票       买入股票"
   ]
  },
  {
   "cell_type": "code",
   "execution_count": null,
   "metadata": {},
   "outputs": [],
   "source": [
    "class Solution:\n",
    "    def maxProfit(self, prices: List[int]) -> int:\n",
    "        if not prices:\n",
    "            return 0\n",
    "\n",
    "        n = len(prices)\n",
    "        dp = [[0, 0] for _ in range(n + 1)]\n",
    "        prices.insert(0, 0)  # 下标1算第一天, 方便处理\n",
    "\n",
    "        dp[1][1] = -prices[1]\n",
    "        for i in range(2, n + 1):\n",
    "            dp[i][0] = max(dp[i - 1][0], dp[i - 1][1] + prices[i])\n",
    "            dp[i][1] = max(dp[i - 1][1], dp[i - 2][0] - prices[i])\n",
    "\n",
    "        return dp[n][0]"
   ]
  },
  {
   "cell_type": "code",
   "execution_count": null,
   "metadata": {},
   "outputs": [],
   "source": []
  },
  {
   "cell_type": "code",
   "execution_count": null,
   "metadata": {},
   "outputs": [],
   "source": [
    "# select\n",
    "#     district_name\n",
    "#     ,count(*) over(partition by district_name order by district_index rows between 1 preceding and 1 following) as a\n",
    "#     ,count(*) over(partition by district_name order by district_index rows between unbounded preceding and unbounded following) as b\n",
    "#     ,count(*) over(partition by district_name order by district_index rows between unbounded preceding and current row) c\n",
    "# from\n",
    "#     dm_si.district\n",
    "# ;"
   ]
  },
  {
   "cell_type": "code",
   "execution_count": null,
   "metadata": {},
   "outputs": [],
   "source": []
  },
  {
   "cell_type": "code",
   "execution_count": null,
   "metadata": {},
   "outputs": [],
   "source": []
  },
  {
   "cell_type": "markdown",
   "metadata": {},
   "source": [
    "# LongestAscSubSequence"
   ]
  },
  {
   "cell_type": "code",
   "execution_count": null,
   "metadata": {},
   "outputs": [],
   "source": [
    "# 给定一个无序的整数数组，找到其中最长上升子序列的长度\n",
    "# 输入：[10,9,2,5,3,7,101,18]\n",
    "# 输出：4 \n",
    "# 解释：最长的上升子序列是 [2,3,7,101]，它的长度是 4"
   ]
  },
  {
   "cell_type": "markdown",
   "metadata": {},
   "source": [
    "## greedy"
   ]
  },
  {
   "cell_type": "code",
   "execution_count": 7,
   "metadata": {
    "ExecuteTime": {
     "end_time": "2020-05-14T10:09:55.595103Z",
     "start_time": "2020-05-14T10:09:55.585081Z"
    }
   },
   "outputs": [],
   "source": [
    "class Solution:\n",
    "    def LongestAscSubSequence(self, n: List[int]) -> int:\n",
    "        size = len(n)\n",
    "        if size == 0:\n",
    "            raise ValueError\n",
    "        else:\n",
    "            x = [1]*size\n",
    "            for i in range(size):\n",
    "                for j in range(i):\n",
    "                    if n[j] < n[i]:\n",
    "                        x[i] = max(x[i], x[j]+1)\n",
    "            y = max(x)\n",
    "        return y"
   ]
  },
  {
   "cell_type": "code",
   "execution_count": 8,
   "metadata": {
    "ExecuteTime": {
     "end_time": "2020-05-14T10:09:56.206006Z",
     "start_time": "2020-05-14T10:09:56.185591Z"
    }
   },
   "outputs": [
    {
     "data": {
      "text/plain": [
       "4"
      ]
     },
     "execution_count": 8,
     "metadata": {},
     "output_type": "execute_result"
    }
   ],
   "source": [
    "n = [10, 9, 2, 5, 3, 7, 101, 18]\n",
    "s = Solution()\n",
    "s.LongestAscSubSequence(n)"
   ]
  },
  {
   "cell_type": "code",
   "execution_count": null,
   "metadata": {},
   "outputs": [],
   "source": [
    "# 时间复杂度：O(N^2)\n",
    "# 空间复杂度：O(N)"
   ]
  },
  {
   "cell_type": "markdown",
   "metadata": {},
   "source": [
    "## greedy with binary search"
   ]
  },
  {
   "cell_type": "code",
   "execution_count": 9,
   "metadata": {
    "ExecuteTime": {
     "end_time": "2020-05-14T10:09:57.635084Z",
     "start_time": "2020-05-14T10:09:57.619549Z"
    }
   },
   "outputs": [],
   "source": [
    "import numpy as np\n",
    "\n",
    "class Solution:\n",
    "    def LongestAscSubSequence(self, n: List[int]) -> int:\n",
    "        x = [-np.inf]\n",
    "        for i in n:\n",
    "            if i > x[-1]:\n",
    "                x.append(i)\n",
    "            else:\n",
    "                a = 0\n",
    "                b = len(x)-1\n",
    "                c = b\n",
    "                while a <= b:\n",
    "                    m = (a+b)//2\n",
    "                    if x[m] >= i:\n",
    "                        c = m\n",
    "                        b = m-1\n",
    "                    else:\n",
    "                        a = m+1\n",
    "                x[c] = i\n",
    "        return len(x)-1"
   ]
  },
  {
   "cell_type": "code",
   "execution_count": 10,
   "metadata": {
    "ExecuteTime": {
     "end_time": "2020-05-14T10:09:58.311550Z",
     "start_time": "2020-05-14T10:09:58.289071Z"
    }
   },
   "outputs": [
    {
     "data": {
      "text/plain": [
       "4"
      ]
     },
     "execution_count": 10,
     "metadata": {},
     "output_type": "execute_result"
    }
   ],
   "source": [
    "s = Solution()\n",
    "s.LongestAscSubSequence(n)"
   ]
  },
  {
   "cell_type": "code",
   "execution_count": null,
   "metadata": {},
   "outputs": [],
   "source": [
    "# n.reverse()\n",
    "# n\n",
    "# s.LongestAscSubSequence(n)"
   ]
  },
  {
   "cell_type": "markdown",
   "metadata": {
    "ExecuteTime": {
     "end_time": "2020-05-14T10:19:32.818796Z",
     "start_time": "2020-05-14T10:19:32.807358Z"
    }
   },
   "source": [
    "## greedy with bisect"
   ]
  },
  {
   "cell_type": "code",
   "execution_count": null,
   "metadata": {},
   "outputs": [],
   "source": [
    "import numpy as np\n",
    "import bisect\n",
    "\n",
    "class Solution:\n",
    "    def LongestAscSubSequence(self, n: List[int]) -> int:\n",
    "        x = [-np.inf]\n",
    "        for i in n:\n",
    "            if i > x[-1]:\n",
    "                x.append(i)\n",
    "            else:\n",
    "                x[bisect.bisect_left(x, i)] = i\n",
    "        return len(x)-1"
   ]
  },
  {
   "cell_type": "code",
   "execution_count": null,
   "metadata": {},
   "outputs": [],
   "source": [
    "s = Solution()\n",
    "s.LongestAscSubSequence(n)"
   ]
  },
  {
   "cell_type": "code",
   "execution_count": null,
   "metadata": {},
   "outputs": [],
   "source": [
    "# 时间复杂度：O(NlogN)\n",
    "# 空间复杂度：O(N)"
   ]
  },
  {
   "cell_type": "code",
   "execution_count": 283,
   "metadata": {
    "ExecuteTime": {
     "end_time": "2020-05-19T11:34:31.290306Z",
     "start_time": "2020-05-19T11:34:31.286399Z"
    }
   },
   "outputs": [],
   "source": [
    "class Solution:\n",
    "    def strMove(self, s: str, k: int) -> str:\n",
    "        tmp = sorted(s)[:k]\n",
    "        for i in tmp:\n",
    "            s = s.replace(i, '')\n",
    "        return s"
   ]
  },
  {
   "cell_type": "code",
   "execution_count": 284,
   "metadata": {
    "ExecuteTime": {
     "end_time": "2020-05-19T11:34:31.848619Z",
     "start_time": "2020-05-19T11:34:31.840543Z"
    }
   },
   "outputs": [
    {
     "data": {
      "text/plain": [
       "'defsc'"
      ]
     },
     "execution_count": 284,
     "metadata": {},
     "output_type": "execute_result"
    }
   ],
   "source": [
    "s = 'bdaaefsc'\n",
    "k = 3\n",
    "solution = Solution()\n",
    "solution.strMove(s, k)"
   ]
  },
  {
   "cell_type": "code",
   "execution_count": 287,
   "metadata": {
    "ExecuteTime": {
     "end_time": "2020-05-19T11:47:58.406302Z",
     "start_time": "2020-05-19T11:47:58.383464Z"
    }
   },
   "outputs": [],
   "source": [
    "from typing import List\n",
    "\n",
    "class Solution:\n",
    "    def intSplit(self, n: List[int], N: int) -> bool:\n",
    "        size = len(n)\n",
    "        result = False\n",
    "        for i in range(size):\n",
    "            for j in range(i, size):\n",
    "                if n[i]+n[j] == N:\n",
    "                    result = True\n",
    "                    break\n",
    "        return result"
   ]
  },
  {
   "cell_type": "code",
   "execution_count": 290,
   "metadata": {
    "ExecuteTime": {
     "end_time": "2020-05-19T11:48:11.131342Z",
     "start_time": "2020-05-19T11:48:11.118391Z"
    }
   },
   "outputs": [
    {
     "data": {
      "text/plain": [
       "False"
      ]
     },
     "execution_count": 290,
     "metadata": {},
     "output_type": "execute_result"
    }
   ],
   "source": [
    "n = [2,3,6,8,10]\n",
    "N = 15\n",
    "solution = Solution()\n",
    "solution.intSplit(n, N)"
   ]
  },
  {
   "cell_type": "code",
   "execution_count": null,
   "metadata": {},
   "outputs": [],
   "source": []
  },
  {
   "cell_type": "code",
   "execution_count": null,
   "metadata": {},
   "outputs": [],
   "source": []
  },
  {
   "cell_type": "markdown",
   "metadata": {},
   "source": [
    "# SmallestK"
   ]
  },
  {
   "cell_type": "code",
   "execution_count": null,
   "metadata": {},
   "outputs": [],
   "source": [
    "# 找出数组中最小的k个数，以任意顺序返回这k个数均可\n",
    "# 输入：arr = [1,3,5,7,2,4,6,8], k = 4\n",
    "# 输出：[1,2,3,4]"
   ]
  },
  {
   "cell_type": "code",
   "execution_count": null,
   "metadata": {},
   "outputs": [],
   "source": [
    "import heapq\n",
    "class Solution:\n",
    "    def SmallestK(self, arr: List[int], k: int) -> List[int]:\n",
    "        if k>len(arr) or k==0:\n",
    "            return []\n",
    "        heap = []\n",
    "        for i in arr[:k]:\n",
    "            heapq.heappush(heap, -i)\n",
    "        for i in arr[k:]:\n",
    "            if i < -heap[0]:\n",
    "                heapq.heappop(heap)\n",
    "                heapq.heappush(heap, -i)\n",
    "        result = []\n",
    "        for i in range(k):\n",
    "            result.append(-heapq.heappop(heap))\n",
    "        return result[::-1]"
   ]
  },
  {
   "cell_type": "code",
   "execution_count": null,
   "metadata": {},
   "outputs": [],
   "source": [
    "class Solution:\n",
    "    def SmallestK(self, arr: List[int], k: int) -> List[int]:\n",
    "        def helper(arr, k, left, right):\n",
    "            ##### 标准快速排序\n",
    "            pivot = left\n",
    "            low, high = left, left+1\n",
    "            for high in range(left+1, right+1):\n",
    "                if arr[high] < arr[pivot]:\n",
    "                    low += 1\n",
    "                    arr[low], arr[high] = arr[high], arr[low]\n",
    "            arr[left], arr[low] = arr[low], arr[left]\n",
    "            ###若当前分块长度不等于目标长度k，则根据情况进行下一步细分\n",
    "            if low-left+1 < k:\n",
    "                helper(arr, k-low+left-1, low+1, right)\n",
    "            elif low-left+1 > k:\n",
    "                helper(arr, k, left, low-1)\n",
    "        \n",
    "        if not arr or not k:\n",
    "            return []\n",
    "        helper(arr, k, 0, len(arr)-1)\n",
    "        return arr[:k]"
   ]
  },
  {
   "cell_type": "code",
   "execution_count": null,
   "metadata": {},
   "outputs": [],
   "source": []
  },
  {
   "cell_type": "code",
   "execution_count": null,
   "metadata": {},
   "outputs": [],
   "source": []
  },
  {
   "cell_type": "code",
   "execution_count": 201,
   "metadata": {
    "ExecuteTime": {
     "end_time": "2020-05-19T05:22:35.557545Z",
     "start_time": "2020-05-19T05:22:35.554072Z"
    }
   },
   "outputs": [],
   "source": [
    "n = [0, 1, 2, 3, 4]\n",
    "m = 3"
   ]
  },
  {
   "cell_type": "code",
   "execution_count": 198,
   "metadata": {
    "ExecuteTime": {
     "end_time": "2020-05-19T05:21:54.473104Z",
     "start_time": "2020-05-19T05:21:54.469512Z"
    }
   },
   "outputs": [],
   "source": [
    "n[0:m] = n[0:m][::-1]\n",
    "n[m:] = n[m:][::-1]\n",
    "n = n[::-1]"
   ]
  },
  {
   "cell_type": "code",
   "execution_count": 199,
   "metadata": {
    "ExecuteTime": {
     "end_time": "2020-05-19T05:21:55.010285Z",
     "start_time": "2020-05-19T05:21:54.987601Z"
    }
   },
   "outputs": [
    {
     "data": {
      "text/plain": [
       "[3, 4, 0, 1, 2]"
      ]
     },
     "execution_count": 199,
     "metadata": {},
     "output_type": "execute_result"
    }
   ],
   "source": [
    "n"
   ]
  },
  {
   "cell_type": "code",
   "execution_count": 213,
   "metadata": {
    "ExecuteTime": {
     "end_time": "2020-05-19T05:27:34.948179Z",
     "start_time": "2020-05-19T05:27:34.941136Z"
    }
   },
   "outputs": [],
   "source": [
    "n = np.array(n)"
   ]
  },
  {
   "cell_type": "code",
   "execution_count": 214,
   "metadata": {
    "ExecuteTime": {
     "end_time": "2020-05-19T05:27:35.581451Z",
     "start_time": "2020-05-19T05:27:35.570379Z"
    }
   },
   "outputs": [],
   "source": [
    "n = n[list(range(m,len(n)))+list(range(0,m))]"
   ]
  },
  {
   "cell_type": "code",
   "execution_count": 215,
   "metadata": {
    "ExecuteTime": {
     "end_time": "2020-05-19T05:27:39.554476Z",
     "start_time": "2020-05-19T05:27:39.545504Z"
    }
   },
   "outputs": [
    {
     "data": {
      "text/plain": [
       "array([3, 4, 0, 1, 2])"
      ]
     },
     "execution_count": 215,
     "metadata": {},
     "output_type": "execute_result"
    }
   ],
   "source": [
    "n"
   ]
  },
  {
   "cell_type": "code",
   "execution_count": null,
   "metadata": {},
   "outputs": [],
   "source": []
  },
  {
   "cell_type": "markdown",
   "metadata": {},
   "source": [
    "# MedianofOrderedArrays"
   ]
  },
  {
   "cell_type": "code",
   "execution_count": null,
   "metadata": {},
   "outputs": [],
   "source": [
    "class Solution:\n",
    "    def MedianofOrderedArrays(self, a: List[int], b: List[int]) -> int:\n",
    "        m, n = len(a), len(b)\n",
    "        if m > n:\n",
    "            a, b, m, n = b, a, n, m\n",
    "        if n == 0:\n",
    "            raise ValueError\n",
    "        imin, imax, half_len = 0, m, (m+n+1)//2\n",
    "        while imin <= imax:\n",
    "            i = (imin+imax)//2\n",
    "            j = half_len-i\n",
    "            if i < m and b[j-1] > a[i]:\n",
    "                imin = i+1\n",
    "            elif i > 0 and a[i-1] > b[j]:\n",
    "                imax = i-1\n",
    "            else:\n",
    "                if i == 0:\n",
    "                    max_of_left = b[j-1]\n",
    "                elif j == 0:\n",
    "                    max_of_left = a[i-1]\n",
    "                else:\n",
    "                    max_of_left = max(a[i-1], b[j-1])\n",
    "                if (m+n) % 2 == 1:\n",
    "                    return max_of_left\n",
    "                if i == m:\n",
    "                    min_of_right = b[j]\n",
    "                elif j == n:\n",
    "                    min_of_right = a[i]\n",
    "                else:\n",
    "                    min_of_right = min(a[i], b[j])\n",
    "                return (max_of_left+min_of_right)/2"
   ]
  },
  {
   "cell_type": "code",
   "execution_count": null,
   "metadata": {},
   "outputs": [],
   "source": []
  },
  {
   "cell_type": "code",
   "execution_count": 241,
   "metadata": {
    "ExecuteTime": {
     "end_time": "2020-05-19T07:05:12.032828Z",
     "start_time": "2020-05-19T07:05:12.027245Z"
    }
   },
   "outputs": [],
   "source": [
    "class Solution(object):\n",
    "    def MedianofOrderedArrays(self, n1: List[int], n2: List[int]):\n",
    "        l1, l2 = len(n1), len(n2)\n",
    "        p1, p2 = 0, 0\n",
    "        h = (l1+l2)//2\n",
    "        n = []\n",
    "\n",
    "        while p1 < l1 and p2 < l2:\n",
    "            if n1[p1] < n2[p2]:\n",
    "                n.append(n1[p1])\n",
    "                p1 += 1\n",
    "            else:\n",
    "                n.append(n2[p2])\n",
    "                p2 += 1\n",
    "\n",
    "        if p1 < l1:\n",
    "            n[p1+p2:] = n1[p1:]\n",
    "        if p2 < l2:\n",
    "            n[p1+p2:] = n2[p2:]\n",
    "\n",
    "        if (l1+l2) % 2 == 0:\n",
    "            m = (n[h-1]+n[h])/2\n",
    "        else:\n",
    "            m = n[h]\n",
    "        return m"
   ]
  },
  {
   "cell_type": "code",
   "execution_count": 267,
   "metadata": {
    "ExecuteTime": {
     "end_time": "2020-05-19T07:34:58.768181Z",
     "start_time": "2020-05-19T07:34:58.755912Z"
    }
   },
   "outputs": [],
   "source": [
    "class Solution(object):\n",
    "    def MedianofOrderedArrays(self, n1: List[int], n2: List[int]):\n",
    "        l1, l2 = len(n1), len(n2)\n",
    "        p1, p2 = 0, 0\n",
    "        h = (l1+l2)//2+1\n",
    "        n = []\n",
    "        \n",
    "        while p1 < l1 and p2 < l2:\n",
    "            if n1[p1] < n2[p2]:\n",
    "                n.append(n1[p1])\n",
    "                p1 += 1\n",
    "                if len(n)==h:\n",
    "                    break\n",
    "            else:\n",
    "                n.append(n2[p2])\n",
    "                p2 += 1\n",
    "                if len(n)==h:\n",
    "                    break\n",
    "\n",
    "        if p2 >= l2:\n",
    "            n[len(n):h] = n1[:h-len(n)]\n",
    "        if p1 >= l1:\n",
    "            n[len(n):h] = n2[:h-len(n)]\n",
    "\n",
    "        if (l1+l2) % 2 == 0:\n",
    "            m = (n[-1]+n[-2])/2\n",
    "        else:\n",
    "            m = n[-1]\n",
    "        return n, m"
   ]
  },
  {
   "cell_type": "code",
   "execution_count": 269,
   "metadata": {
    "ExecuteTime": {
     "end_time": "2020-05-19T07:35:05.251289Z",
     "start_time": "2020-05-19T07:35:05.237399Z"
    }
   },
   "outputs": [
    {
     "data": {
      "text/plain": [
       "([1, 2, 4, 5, 6], 5.5)"
      ]
     },
     "execution_count": 269,
     "metadata": {},
     "output_type": "execute_result"
    }
   ],
   "source": [
    "n1 = [1, 2, 4, 6]\n",
    "n2 = [5, 6, 7, 8]\n",
    "# n1 = [1, 2]\n",
    "# n2 = [5, 6, 7, 8]\n",
    "s = Solution()\n",
    "s.MedianofOrderedArrays(n1, n2)"
   ]
  },
  {
   "cell_type": "code",
   "execution_count": null,
   "metadata": {},
   "outputs": [],
   "source": []
  },
  {
   "cell_type": "code",
   "execution_count": null,
   "metadata": {},
   "outputs": [],
   "source": [
    "# 给定一个字符串，找出其中不含有重复字符的 最长子串 的长度\n",
    "# 输入: \"abcabcbb\"\n",
    "# 输出: 3 \n",
    "# 解释: 因为无重复字符的最长子串是 \"abc\"，所以其长度为 3"
   ]
  },
  {
   "cell_type": "code",
   "execution_count": null,
   "metadata": {},
   "outputs": [],
   "source": []
  },
  {
   "cell_type": "code",
   "execution_count": null,
   "metadata": {},
   "outputs": [],
   "source": []
  },
  {
   "cell_type": "markdown",
   "metadata": {},
   "source": [
    "# EggDrop"
   ]
  },
  {
   "cell_type": "code",
   "execution_count": null,
   "metadata": {},
   "outputs": [],
   "source": [
    "class Solution:\n",
    "    def EggDrop(self, K: int, N: int) -> int:\n",
    "\n",
    "        dp = [[i for _ in range(K + 1)] for i in range(N + 1)]\n",
    "\n",
    "        for j in range(K + 1):\n",
    "            dp[0][j] = 0\n",
    "\n",
    "        dp[1][0] = 0\n",
    "        for j in range(K + 1):\n",
    "            dp[1][j] = 1\n",
    "\n",
    "        for i in range(N + 1):\n",
    "            dp[i][0] = 0\n",
    "            dp[i][1] = i\n",
    "        \n",
    "        data = []\n",
    "        for i in range(2, N + 1):\n",
    "            for j in range(2, K + 1):\n",
    "                for k in range(1, i + 1):\n",
    "                    if i == N and j == K:\n",
    "                        data.append([k, dp[k - 1][j - 1], dp[i - k][j]])\n",
    "                    dp[i][j] = min(dp[i][j], max(dp[k - 1][j - 1], dp[i - k][j]) + 1)\n",
    "        return dp[N][K], data"
   ]
  },
  {
   "cell_type": "code",
   "execution_count": null,
   "metadata": {},
   "outputs": [],
   "source": []
  },
  {
   "cell_type": "markdown",
   "metadata": {},
   "source": [
    "# LaplacianEigendecomposition"
   ]
  },
  {
   "cell_type": "code",
   "execution_count": 12,
   "metadata": {
    "ExecuteTime": {
     "end_time": "2020-05-14T10:22:48.269192Z",
     "start_time": "2020-05-14T10:22:48.261767Z"
    }
   },
   "outputs": [],
   "source": [
    "D = np.diag([1, 1, 1, 1])\n",
    "W = np.array([[0, 1, 0, 0], [1, 0, 0, 0], [0, 0, 0, 1], [0, 0, 1, 0]])\n",
    "L = D-W"
   ]
  },
  {
   "cell_type": "code",
   "execution_count": 13,
   "metadata": {
    "ExecuteTime": {
     "end_time": "2020-05-14T10:22:49.823403Z",
     "start_time": "2020-05-14T10:22:49.702331Z"
    }
   },
   "outputs": [
    {
     "data": {
      "text/plain": [
       "(array([ 0.,  0.,  2.,  2.]),\n",
       " array([[-0.70710678, -0.        ,  0.        , -0.70710678],\n",
       "        [-0.70710678, -0.        ,  0.        ,  0.70710678],\n",
       "        [-0.        , -0.70710678, -0.70710678,  0.        ],\n",
       "        [-0.        , -0.70710678,  0.70710678,  0.        ]]))"
      ]
     },
     "execution_count": 13,
     "metadata": {},
     "output_type": "execute_result"
    }
   ],
   "source": [
    "np.linalg.eigh(L)"
   ]
  },
  {
   "cell_type": "code",
   "execution_count": 14,
   "metadata": {
    "ExecuteTime": {
     "end_time": "2020-05-14T10:22:50.828654Z",
     "start_time": "2020-05-14T10:22:50.819501Z"
    }
   },
   "outputs": [],
   "source": [
    "D = np.diag([11, 10, 11, 10])\n",
    "W = np.array([[0, 10, 1, 0], [10, 0, 0, 0], [1, 0, 0, 10], [0, 0, 10, 0]])\n",
    "L = D-W"
   ]
  },
  {
   "cell_type": "code",
   "execution_count": 15,
   "metadata": {
    "ExecuteTime": {
     "end_time": "2020-05-14T10:22:51.401821Z",
     "start_time": "2020-05-14T10:22:51.385457Z"
    }
   },
   "outputs": [
    {
     "data": {
      "text/plain": [
       "(array([  1.57692261e-15,   9.50124379e-01,   2.00000000e+01,\n",
       "          2.10498756e+01]),\n",
       " array([[ 0.5       , -0.47447241,  0.5       , -0.52428611],\n",
       "        [ 0.5       , -0.52428611, -0.5       ,  0.47447241],\n",
       "        [ 0.5       ,  0.47447241,  0.5       ,  0.52428611],\n",
       "        [ 0.5       ,  0.52428611, -0.5       , -0.47447241]]))"
      ]
     },
     "execution_count": 15,
     "metadata": {},
     "output_type": "execute_result"
    }
   ],
   "source": [
    "np.linalg.eigh(L)"
   ]
  },
  {
   "cell_type": "code",
   "execution_count": null,
   "metadata": {},
   "outputs": [],
   "source": []
  },
  {
   "cell_type": "code",
   "execution_count": null,
   "metadata": {},
   "outputs": [],
   "source": []
  },
  {
   "cell_type": "markdown",
   "metadata": {},
   "source": [
    "# pymysql"
   ]
  },
  {
   "cell_type": "code",
   "execution_count": null,
   "metadata": {},
   "outputs": [],
   "source": [
    "from sqlalchemy.engine import create_engine"
   ]
  },
  {
   "cell_type": "code",
   "execution_count": null,
   "metadata": {},
   "outputs": [],
   "source": [
    "engine_user = 'risk_cash_indr'\n",
    "engine_pwd = '56fZGrao@ql1g0'\n",
    "engine_ip = 'rm-a2d118877eu2182wt62800.mysql.ap-south-1.rds.aliyuncs.com'\n",
    "engine_port = 3306\n",
    "engine_db = 'strategy'\n",
    "engine_charset = 'utf8'\n",
    "engine = create_engine('mysql+pymysql://{}:{}@{}:{}/{}?charset={}'.format(\n",
    "    engine_user, engine_pwd, engine_ip, engine_port, engine_db, engine_charset))"
   ]
  },
  {
   "cell_type": "code",
   "execution_count": null,
   "metadata": {},
   "outputs": [],
   "source": [
    "con = engine.connect()"
   ]
  },
  {
   "cell_type": "code",
   "execution_count": null,
   "metadata": {},
   "outputs": [],
   "source": [
    "merge.to_sql(name='cross_section', schema='data', con=con, if_exists='replace', index=False)"
   ]
  },
  {
   "cell_type": "code",
   "execution_count": null,
   "metadata": {},
   "outputs": [],
   "source": []
  },
  {
   "cell_type": "code",
   "execution_count": null,
   "metadata": {},
   "outputs": [],
   "source": [
    "# import pymysql\n",
    "# conn = pymysql.connect(host=engine_ip,\n",
    "#                        port=engine_port,\n",
    "#                        user=engine_user,\n",
    "#                        passwd=engine_pwd,\n",
    "#                        db=engine_db, charset=engine_charset)\n",
    "# cur = conn.cursor()"
   ]
  },
  {
   "cell_type": "code",
   "execution_count": null,
   "metadata": {},
   "outputs": [],
   "source": [
    "# pd.read_sql('select * from cross_section', conn)"
   ]
  },
  {
   "cell_type": "code",
   "execution_count": null,
   "metadata": {},
   "outputs": [],
   "source": [
    "# cur.close()"
   ]
  },
  {
   "cell_type": "code",
   "execution_count": null,
   "metadata": {},
   "outputs": [],
   "source": []
  }
 ],
 "metadata": {
  "kernelspec": {
   "display_name": "Python 3",
   "language": "python",
   "name": "python3"
  },
  "language_info": {
   "codemirror_mode": {
    "name": "ipython",
    "version": 3
   },
   "file_extension": ".py",
   "mimetype": "text/x-python",
   "name": "python",
   "nbconvert_exporter": "python",
   "pygments_lexer": "ipython3",
   "version": "3.6.10"
  },
  "toc": {
   "base_numbering": 1,
   "nav_menu": {},
   "number_sections": true,
   "sideBar": true,
   "skip_h1_title": false,
   "title_cell": "Table of Contents",
   "title_sidebar": "Contents",
   "toc_cell": false,
   "toc_position": {
    "height": "calc(100% - 180px)",
    "left": "10px",
    "top": "150px",
    "width": "255px"
   },
   "toc_section_display": true,
   "toc_window_display": true
  },
  "varInspector": {
   "cols": {
    "lenName": 16,
    "lenType": 16,
    "lenVar": 40
   },
   "kernels_config": {
    "python": {
     "delete_cmd_postfix": "",
     "delete_cmd_prefix": "del ",
     "library": "var_list.py",
     "varRefreshCmd": "print(var_dic_list())"
    },
    "r": {
     "delete_cmd_postfix": ") ",
     "delete_cmd_prefix": "rm(",
     "library": "var_list.r",
     "varRefreshCmd": "cat(var_dic_list()) "
    }
   },
   "types_to_exclude": [
    "module",
    "function",
    "builtin_function_or_method",
    "instance",
    "_Feature"
   ],
   "window_display": false
  }
 },
 "nbformat": 4,
 "nbformat_minor": 2
}
